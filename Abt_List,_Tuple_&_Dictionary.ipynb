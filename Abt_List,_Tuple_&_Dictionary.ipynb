{
  "nbformat": 4,
  "nbformat_minor": 0,
  "metadata": {
    "colab": {
      "name": "Abt List, Tuple & Dictionary.ipynb",
      "provenance": [],
      "collapsed_sections": [],
      "authorship_tag": "ABX9TyP4h3dzb3UoessPGDwrQ2Mj",
      "include_colab_link": true
    },
    "kernelspec": {
      "name": "python3",
      "display_name": "Python 3"
    }
  },
  "cells": [
    {
      "cell_type": "markdown",
      "metadata": {
        "id": "view-in-github",
        "colab_type": "text"
      },
      "source": [
        "<a href=\"https://colab.research.google.com/github/felstuff/BackToBasic/blob/master/Abt_List%2C_Tuple_%26_Dictionary.ipynb\" target=\"_parent\"><img src=\"https://colab.research.google.com/assets/colab-badge.svg\" alt=\"Open In Colab\"/></a>"
      ]
    },
    {
      "cell_type": "markdown",
      "metadata": {
        "id": "GrqlxVfF61NV",
        "colab_type": "text"
      },
      "source": [
        "# NOTES: About List, Tuple & Dictionary"
      ]
    },
    {
      "cell_type": "markdown",
      "metadata": {
        "id": "wJNY09MleRxW",
        "colab_type": "text"
      },
      "source": [
        "**List, Tuple & Dictionary are known as Collective Values** \n",
        "\n",
        "**List** - opens and close with square brackets [ ], and it can contains values like integer, string, another list, or float. Sometimes it can contain all the different values in a list   \n",
        "\n",
        "**Tuple** - hardly used & opens and close with round brackets ( )\n",
        "\n",
        "**Dictionary** - opens and close with curly brackets { }, and it will only containt string which is enclosed with '  ' and/or integer.\n",
        "\n",
        "To find out more: https://medium.com/@paulrohan/python-list-vs-tuple-vs-dictionary-4a48655c7934\n",
        "\n",
        "*Python ALWAYS start counting from \"0\"*\n",
        "\n",
        "\n",
        "\n"
      ]
    },
    {
      "cell_type": "code",
      "metadata": {
        "id": "z30TwRZDjkaH",
        "colab_type": "code",
        "colab": {}
      },
      "source": [
        "a = 1 # \"a\" is a variable & \"1\" is the value assigned to it  "
      ],
      "execution_count": null,
      "outputs": []
    },
    {
      "cell_type": "code",
      "metadata": {
        "id": "ZfbibY5Rfe1q",
        "colab_type": "code",
        "colab": {}
      },
      "source": [
        "listttttttt1 = [ 'elephant', 3.141459, 7, [4,12,5], True ] \n",
        "\n",
        "# listttttttt1 is the variable \n",
        "# [ 'elephant', 3.141459, 7, [4,12,5], True ] is the value, in a List. \n",
        "# How you know it's a List is coz it contains: all the different type of variables like integer, string, boolean, float    \n"
      ],
      "execution_count": 30,
      "outputs": []
    },
    {
      "cell_type": "code",
      "metadata": {
        "id": "6zZw-8kDnZ_3",
        "colab_type": "code",
        "colab": {
          "base_uri": "https://localhost:8080/",
          "height": 34
        },
        "outputId": "915c15b6-abb4-43de-fd2a-62a11273e026"
      },
      "source": [
        "# To find the number 12 from the above list \n",
        "listttttttt1[3][1]\n",
        "# [3] is the order of the \"list\" [1] is the order of the \"list\" within the \"list\", hence [] twice, to call out 12."
      ],
      "execution_count": 32,
      "outputs": [
        {
          "output_type": "execute_result",
          "data": {
            "text/plain": [
              "12"
            ]
          },
          "metadata": {
            "tags": []
          },
          "execution_count": 32
        }
      ]
    },
    {
      "cell_type": "code",
      "metadata": {
        "id": "LNzvGBCAi6WC",
        "colab_type": "code",
        "colab": {}
      },
      "source": [
        "# This is a Dictionary\n",
        "# WHY? coz it opens and closes with {}\n",
        "# and it only contain integer and/ or a string \n",
        "# Always is a **key:value** pair, and seperated by a comma \n",
        "\n",
        "human = {'gender': 1, 'age': 40, 2000: 153}"
      ],
      "execution_count": 28,
      "outputs": []
    },
    {
      "cell_type": "code",
      "metadata": {
        "id": "mKkShuzOm2g4",
        "colab_type": "code",
        "colab": {
          "base_uri": "https://localhost:8080/",
          "height": 34
        },
        "outputId": "8850a81e-03cd-4c50-964a-0f09ee51caa3"
      },
      "source": [
        "# to call out \"2000\" \n",
        "human[2000]"
      ],
      "execution_count": 34,
      "outputs": [
        {
          "output_type": "execute_result",
          "data": {
            "text/plain": [
              "153"
            ]
          },
          "metadata": {
            "tags": []
          },
          "execution_count": 34
        }
      ]
    },
    {
      "cell_type": "code",
      "metadata": {
        "id": "lqgIODBPwMMk",
        "colab_type": "code",
        "colab": {}
      },
      "source": [
        "# in this case this code will run and give us a List, coz it's in []\n",
        "cv_data['test-accuracy-score'] "
      ],
      "execution_count": null,
      "outputs": []
    }
  ]
}